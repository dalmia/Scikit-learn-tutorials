{
 "cells": [
  {
   "cell_type": "code",
   "execution_count": 1,
   "metadata": {
    "collapsed": true
   },
   "outputs": [],
   "source": [
    "from sklearn.datasets import load_iris"
   ]
  },
  {
   "cell_type": "code",
   "execution_count": 2,
   "metadata": {
    "collapsed": false
   },
   "outputs": [
    {
     "data": {
      "text/plain": [
       "sklearn.datasets.base.Bunch"
      ]
     },
     "execution_count": 2,
     "metadata": {},
     "output_type": "execute_result"
    }
   ],
   "source": [
    "iris=load_iris()\n",
    "type(iris)"
   ]
  },
  {
   "cell_type": "code",
   "execution_count": 4,
   "metadata": {
    "collapsed": false
   },
   "outputs": [
    {
     "name": "stdout",
     "output_type": "stream",
     "text": [
      "(150, 4)\n"
     ]
    }
   ],
   "source": [
    "print iris.data.shape"
   ]
  },
  {
   "cell_type": "code",
   "execution_count": 5,
   "metadata": {
    "collapsed": false
   },
   "outputs": [
    {
     "name": "stdout",
     "output_type": "stream",
     "text": [
      "['sepal length (cm)', 'sepal width (cm)', 'petal length (cm)', 'petal width (cm)']\n"
     ]
    }
   ],
   "source": [
    "print iris.feature_names"
   ]
  },
  {
   "cell_type": "code",
   "execution_count": 6,
   "metadata": {
    "collapsed": false
   },
   "outputs": [
    {
     "name": "stdout",
     "output_type": "stream",
     "text": [
      "['setosa' 'versicolor' 'virginica']\n"
     ]
    }
   ],
   "source": [
    "print iris.target_names"
   ]
  },
  {
   "cell_type": "code",
   "execution_count": 7,
   "metadata": {
    "collapsed": false
   },
   "outputs": [
    {
     "name": "stdout",
     "output_type": "stream",
     "text": [
      "[0 0 0 0 0 0 0 0 0 0 0 0 0 0 0 0 0 0 0 0 0 0 0 0 0 0 0 0 0 0 0 0 0 0 0 0 0\n",
      " 0 0 0 0 0 0 0 0 0 0 0 0 0 1 1 1 1 1 1 1 1 1 1 1 1 1 1 1 1 1 1 1 1 1 1 1 1\n",
      " 1 1 1 1 1 1 1 1 1 1 1 1 1 1 1 1 1 1 1 1 1 1 1 1 1 1 2 2 2 2 2 2 2 2 2 2 2\n",
      " 2 2 2 2 2 2 2 2 2 2 2 2 2 2 2 2 2 2 2 2 2 2 2 2 2 2 2 2 2 2 2 2 2 2 2 2 2\n",
      " 2 2]\n"
     ]
    }
   ],
   "source": [
    "print iris.target"
   ]
  },
  {
   "cell_type": "code",
   "execution_count": 8,
   "metadata": {
    "collapsed": false
   },
   "outputs": [
    {
     "name": "stdout",
     "output_type": "stream",
     "text": [
      "<type 'numpy.ndarray'>\n"
     ]
    }
   ],
   "source": [
    "print type(iris.data)"
   ]
  },
  {
   "cell_type": "code",
   "execution_count": 9,
   "metadata": {
    "collapsed": true
   },
   "outputs": [],
   "source": [
    "X=iris.data #matrix\n",
    "y=iris.target #vector\n"
   ]
  },
  {
   "cell_type": "code",
   "execution_count": 10,
   "metadata": {
    "collapsed": true
   },
   "outputs": [],
   "source": [
    "from sklearn.neighbors import KNeighborsClassifier"
   ]
  },
  {
   "cell_type": "code",
   "execution_count": 11,
   "metadata": {
    "collapsed": true
   },
   "outputs": [],
   "source": [
    "knn=KNeighborsClassifier(n_neighbors=1)"
   ]
  },
  {
   "cell_type": "code",
   "execution_count": 12,
   "metadata": {
    "collapsed": false
   },
   "outputs": [
    {
     "name": "stdout",
     "output_type": "stream",
     "text": [
      "KNeighborsClassifier(algorithm='auto', leaf_size=30, metric='minkowski',\n",
      "           metric_params=None, n_jobs=1, n_neighbors=1, p=2,\n",
      "           weights='uniform')\n"
     ]
    }
   ],
   "source": [
    "print knn"
   ]
  },
  {
   "cell_type": "code",
   "execution_count": 13,
   "metadata": {
    "collapsed": false
   },
   "outputs": [
    {
     "data": {
      "text/plain": [
       "KNeighborsClassifier(algorithm='auto', leaf_size=30, metric='minkowski',\n",
       "           metric_params=None, n_jobs=1, n_neighbors=1, p=2,\n",
       "           weights='uniform')"
      ]
     },
     "execution_count": 13,
     "metadata": {},
     "output_type": "execute_result"
    }
   ],
   "source": [
    "knn.fit(X,y)"
   ]
  },
  {
   "cell_type": "code",
   "execution_count": 17,
   "metadata": {
    "collapsed": false
   },
   "outputs": [],
   "source": [
    "X_new=[[3,5,4,2],[5,4,3,2]]"
   ]
  },
  {
   "cell_type": "code",
   "execution_count": 18,
   "metadata": {
    "collapsed": true
   },
   "outputs": [],
   "source": [
    "knn = KNeighborsClassifier(n_neighbors=5)"
   ]
  },
  {
   "cell_type": "code",
   "execution_count": null,
   "metadata": {
    "collapsed": true
   },
   "outputs": [],
   "source": []
  },
  {
   "cell_type": "code",
   "execution_count": 19,
   "metadata": {
    "collapsed": false
   },
   "outputs": [
    {
     "data": {
      "text/plain": [
       "array([1, 1])"
      ]
     },
     "execution_count": 19,
     "metadata": {},
     "output_type": "execute_result"
    }
   ],
   "source": [
    "knn.fit(X,y)\n",
    "knn.predict(X_new)"
   ]
  },
  {
   "cell_type": "code",
   "execution_count": 22,
   "metadata": {
    "collapsed": true
   },
   "outputs": [],
   "source": [
    "#Using different model\n",
    "from sklearn.linear_model import LogisticRegression"
   ]
  },
  {
   "cell_type": "code",
   "execution_count": 23,
   "metadata": {
    "collapsed": false
   },
   "outputs": [
    {
     "data": {
      "text/plain": [
       "array([2, 0])"
      ]
     },
     "execution_count": 23,
     "metadata": {},
     "output_type": "execute_result"
    }
   ],
   "source": [
    "logreg=LogisticRegression()\n",
    "logreg.fit(X,y)\n",
    "logreg.predict(X_new)"
   ]
  },
  {
   "cell_type": "code",
   "execution_count": 27,
   "metadata": {
    "collapsed": false
   },
   "outputs": [],
   "source": [
    "#Evaluation procedure 1 : Train and test on entire dataset\n",
    "y_pred=logreg.predict(X)"
   ]
  },
  {
   "cell_type": "code",
   "execution_count": 28,
   "metadata": {
    "collapsed": true
   },
   "outputs": [],
   "source": [
    "#Classification accuracy\n",
    "from sklearn import metrics\n"
   ]
  },
  {
   "cell_type": "code",
   "execution_count": 30,
   "metadata": {
    "collapsed": false
   },
   "outputs": [
    {
     "name": "stdout",
     "output_type": "stream",
     "text": [
      "0.96\n"
     ]
    }
   ],
   "source": [
    "print metrics.accuracy_score(y,y_pred)"
   ]
  },
  {
   "cell_type": "code",
   "execution_count": 34,
   "metadata": {
    "collapsed": false
   },
   "outputs": [
    {
     "name": "stdout",
     "output_type": "stream",
     "text": [
      "1.0\n"
     ]
    }
   ],
   "source": [
    "#Using 1NN\n",
    "knn=KNeighborsClassifier(n_neighbors=1)\n",
    "knn.fit(X,y)\n",
    "y_pred=knn.predict(X)\n",
    "print metrics.accuracy_score(y,y_pred)"
   ]
  },
  {
   "cell_type": "code",
   "execution_count": 36,
   "metadata": {
    "collapsed": false
   },
   "outputs": [
    {
     "name": "stdout",
     "output_type": "stream",
     "text": [
      "0.966666666667\n"
     ]
    }
   ],
   "source": [
    "#Using 5NN\n",
    "knn=KNeighborsClassifier(n_neighbors=5)\n",
    "knn.fit(X,y)\n",
    "y_pred=knn.predict(X)\n",
    "print metrics.accuracy_score(y,y_pred)"
   ]
  },
  {
   "cell_type": "code",
   "execution_count": 37,
   "metadata": {
    "collapsed": true
   },
   "outputs": [],
   "source": [
    "#Evaluation procedure 2 : Train/test split"
   ]
  },
  {
   "cell_type": "code",
   "execution_count": 39,
   "metadata": {
    "collapsed": false
   },
   "outputs": [],
   "source": [
    "from sklearn.cross_validation import train_test_split"
   ]
  },
  {
   "cell_type": "code",
   "execution_count": 56,
   "metadata": {
    "collapsed": true
   },
   "outputs": [],
   "source": [
    "X_train,X_test,y_train,y_test=train_test_split(X,y,test_size=0.4,random_state=4)"
   ]
  },
  {
   "cell_type": "code",
   "execution_count": 57,
   "metadata": {
    "collapsed": false
   },
   "outputs": [
    {
     "name": "stdout",
     "output_type": "stream",
     "text": [
      "[[ 4.6  3.4  1.4  0.3]\n",
      " [ 5.6  3.   4.1  1.3]\n",
      " [ 5.1  3.4  1.5  0.2]\n",
      " [ 6.4  2.9  4.3  1.3]\n",
      " [ 6.8  3.   5.5  2.1]\n",
      " [ 6.7  3.   5.   1.7]\n",
      " [ 6.5  3.2  5.1  2. ]\n",
      " [ 6.   3.4  4.5  1.6]\n",
      " [ 4.9  3.1  1.5  0.1]\n",
      " [ 4.9  2.5  4.5  1.7]\n",
      " [ 6.9  3.2  5.7  2.3]\n",
      " [ 5.4  3.4  1.5  0.4]\n",
      " [ 5.5  2.4  3.8  1.1]\n",
      " [ 6.3  3.3  6.   2.5]\n",
      " [ 5.   3.6  1.4  0.2]\n",
      " [ 6.1  3.   4.9  1.8]\n",
      " [ 6.5  2.8  4.6  1.5]\n",
      " [ 5.9  3.   5.1  1.8]\n",
      " [ 6.3  2.5  4.9  1.5]\n",
      " [ 4.9  3.1  1.5  0.1]\n",
      " [ 6.1  2.6  5.6  1.4]\n",
      " [ 6.4  3.2  4.5  1.5]\n",
      " [ 7.1  3.   5.9  2.1]\n",
      " [ 5.5  3.5  1.3  0.2]\n",
      " [ 6.4  2.7  5.3  1.9]\n",
      " [ 5.5  2.3  4.   1.3]\n",
      " [ 6.9  3.1  5.4  2.1]\n",
      " [ 5.8  2.7  3.9  1.2]\n",
      " [ 5.8  2.7  5.1  1.9]\n",
      " [ 6.1  2.8  4.   1.3]\n",
      " [ 5.9  3.2  4.8  1.8]\n",
      " [ 6.2  3.4  5.4  2.3]\n",
      " [ 5.7  2.8  4.1  1.3]\n",
      " [ 6.6  3.   4.4  1.4]\n",
      " [ 5.8  2.8  5.1  2.4]\n",
      " [ 6.   2.2  4.   1. ]\n",
      " [ 5.8  2.7  4.1  1. ]\n",
      " [ 4.6  3.6  1.   0.2]\n",
      " [ 6.7  3.1  5.6  2.4]\n",
      " [ 5.1  3.3  1.7  0.5]\n",
      " [ 6.8  2.8  4.8  1.4]\n",
      " [ 5.3  3.7  1.5  0.2]\n",
      " [ 5.2  2.7  3.9  1.4]\n",
      " [ 6.1  2.8  4.7  1.2]\n",
      " [ 5.5  2.5  4.   1.3]\n",
      " [ 5.5  2.4  3.7  1. ]\n",
      " [ 5.1  3.5  1.4  0.3]\n",
      " [ 6.7  3.   5.2  2.3]\n",
      " [ 6.   3.   4.8  1.8]\n",
      " [ 5.7  3.   4.2  1.2]\n",
      " [ 5.1  2.5  3.   1.1]\n",
      " [ 5.7  2.6  3.5  1. ]\n",
      " [ 4.6  3.1  1.5  0.2]\n",
      " [ 5.2  3.4  1.4  0.2]\n",
      " [ 6.9  3.1  5.1  2.3]\n",
      " [ 5.6  2.8  4.9  2. ]\n",
      " [ 5.5  4.2  1.4  0.2]\n",
      " [ 4.8  3.   1.4  0.3]\n",
      " [ 4.4  3.2  1.3  0.2]\n",
      " [ 6.4  3.2  5.3  2.3]\n",
      " [ 5.   3.5  1.3  0.3]\n",
      " [ 5.2  4.1  1.5  0.1]\n",
      " [ 6.3  2.5  5.   1.9]\n",
      " [ 6.8  3.2  5.9  2.3]\n",
      " [ 5.6  3.   4.5  1.5]\n",
      " [ 5.   3.3  1.4  0.2]\n",
      " [ 4.4  2.9  1.4  0.2]\n",
      " [ 4.8  3.1  1.6  0.2]\n",
      " [ 7.7  3.8  6.7  2.2]\n",
      " [ 6.3  3.3  4.7  1.6]\n",
      " [ 5.1  3.7  1.5  0.4]\n",
      " [ 5.1  3.5  1.4  0.2]\n",
      " [ 7.9  3.8  6.4  2. ]\n",
      " [ 6.9  3.1  4.9  1.5]\n",
      " [ 6.2  2.8  4.8  1.8]\n",
      " [ 4.4  3.   1.3  0.2]\n",
      " [ 5.1  3.8  1.9  0.4]\n",
      " [ 6.5  3.   5.2  2. ]\n",
      " [ 4.9  2.4  3.3  1. ]\n",
      " [ 5.7  2.8  4.5  1.3]\n",
      " [ 5.6  2.7  4.2  1.3]\n",
      " [ 7.2  3.6  6.1  2.5]\n",
      " [ 6.3  2.9  5.6  1.8]\n",
      " [ 6.6  2.9  4.6  1.3]\n",
      " [ 6.4  3.1  5.5  1.8]\n",
      " [ 7.   3.2  4.7  1.4]\n",
      " [ 6.3  2.3  4.4  1.3]\n",
      " [ 6.5  3.   5.8  2.2]\n",
      " [ 7.2  3.   5.8  1.6]\n",
      " [ 7.7  2.8  6.7  2. ]]\n"
     ]
    }
   ],
   "source": [
    "print X_train"
   ]
  },
  {
   "cell_type": "code",
   "execution_count": 58,
   "metadata": {
    "collapsed": false
   },
   "outputs": [
    {
     "name": "stdout",
     "output_type": "stream",
     "text": [
      "0.95\n"
     ]
    }
   ],
   "source": [
    "logreg=LogisticRegression()\n",
    "logreg.fit(X_train,y_train)\n",
    "y_pred=logreg.predict(X_test)\n",
    "print metrics.accuracy_score(y_test,y_pred)"
   ]
  },
  {
   "cell_type": "code",
   "execution_count": 59,
   "metadata": {
    "collapsed": false
   },
   "outputs": [],
   "source": [
    "k_range=list(range(1,26))\n",
    "scores=[]\n",
    "for k in k_range:\n",
    "    knn=KNeighborsClassifier(n_neighbors=k)\n",
    "    knn.fit(X_train,y_train)\n",
    "    y_pred=knn.predict(X_test)\n",
    "    scores.append(metrics.accuracy_score(y_test,y_pred))"
   ]
  },
  {
   "cell_type": "code",
   "execution_count": 60,
   "metadata": {
    "collapsed": false
   },
   "outputs": [
    {
     "name": "stdout",
     "output_type": "stream",
     "text": [
      "[0.94999999999999996, 0.94999999999999996, 0.96666666666666667, 0.96666666666666667, 0.96666666666666667, 0.98333333333333328, 0.98333333333333328, 0.98333333333333328, 0.98333333333333328, 0.98333333333333328, 0.98333333333333328, 0.98333333333333328, 0.98333333333333328, 0.98333333333333328, 0.98333333333333328, 0.98333333333333328, 0.98333333333333328, 0.96666666666666667, 0.98333333333333328, 0.96666666666666667, 0.96666666666666667, 0.96666666666666667, 0.96666666666666667, 0.94999999999999996, 0.94999999999999996]\n"
     ]
    }
   ],
   "source": [
    "print scores"
   ]
  },
  {
   "cell_type": "code",
   "execution_count": 61,
   "metadata": {
    "collapsed": false
   },
   "outputs": [
    {
     "data": {
      "image/png": "[encoded data removed]",
      "text/plain": [
       "<matplotlib.figure.Figure at 0x7fe79cc6fd90>"
      ]
     },
     "metadata": {},
     "output_type": "display_data"
    }
   ],
   "source": [
    "import matplotlib.pyplot as plt\n",
    "plt.plot(k_range,scores)\n",
    "plt.xlabel(\"K\")\n",
    "plt.ylabel(\"Accuracy\")\n",
    "plt.show()"
   ]
  },
  {
   "cell_type": "code",
   "execution_count": null,
   "metadata": {
    "collapsed": true
   },
   "outputs": [],
   "source": []
  },
  {
   "cell_type": "code",
   "execution_count": null,
   "metadata": {
    "collapsed": true
   },
   "outputs": [],
   "source": []
  }
 ],
 "metadata": {
  "kernelspec": {
   "display_name": "Python 2",
   "language": "python",
   "name": "python2"
  },
  "language_info": {
   "codemirror_mode": {
    "name": "ipython",
    "version": 2
   },
   "file_extension": ".py",
   "mimetype": "text/x-python",
   "name": "python",
   "nbconvert_exporter": "python",
   "pygments_lexer": "ipython2",
   "version": "2.7.9"
  }
 },
 "nbformat": 4,
 "nbformat_minor": 1
}
